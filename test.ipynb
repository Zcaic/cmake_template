{
 "cells": [
  {
   "cell_type": "code",
   "execution_count": 1,
   "id": "a1fbf549",
   "metadata": {},
   "outputs": [
    {
     "name": "stdout",
     "output_type": "stream",
     "text": [
      "[[ 3.  6.  9.]\n",
      " [ 9. 12. 15.]]\n"
     ]
    }
   ],
   "source": [
    "from out.my_ext import add,mul\n",
    "import numpy as np\n",
    "\n",
    "add(a=1,b=10)\n",
    "\n",
    "a=np.array([[1,2,3],[3,4,5]],dtype=np.float32)\n",
    "mul(a,3)\n",
    "print(a)"
   ]
  }
 ],
 "metadata": {
  "kernelspec": {
   "display_name": "py12",
   "language": "python",
   "name": "python3"
  },
  "language_info": {
   "codemirror_mode": {
    "name": "ipython",
    "version": 3
   },
   "file_extension": ".py",
   "mimetype": "text/x-python",
   "name": "python",
   "nbconvert_exporter": "python",
   "pygments_lexer": "ipython3",
   "version": "3.12.9"
  }
 },
 "nbformat": 4,
 "nbformat_minor": 5
}
