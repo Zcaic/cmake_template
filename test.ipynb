{
 "cells": [
  {
   "cell_type": "code",
   "execution_count": 4,
   "id": "a1fbf549",
   "metadata": {},
   "outputs": [
    {
     "name": "stdout",
     "output_type": "stream",
     "text": [
      "[[ 4.  8. 12.]\n",
      " [12. 16. 20.]]\n"
     ]
    }
   ],
   "source": [
    "from out.my_ext import add,mul\n",
    "import numpy as np\n",
    "\n",
    "add(a=1,b=10)\n",
    "\n",
    "a=np.array([[1.0,2.0,3.0],[3.0,4.0,5.0]])\n",
    "mul(a,4)\n",
    "print(a)"
   ]
  }
 ],
 "metadata": {
  "kernelspec": {
   "display_name": "py12",
   "language": "python",
   "name": "python3"
  },
  "language_info": {
   "codemirror_mode": {
    "name": "ipython",
    "version": 3
   },
   "file_extension": ".py",
   "mimetype": "text/x-python",
   "name": "python",
   "nbconvert_exporter": "python",
   "pygments_lexer": "ipython3",
   "version": "3.12.9"
  }
 },
 "nbformat": 4,
 "nbformat_minor": 5
}
